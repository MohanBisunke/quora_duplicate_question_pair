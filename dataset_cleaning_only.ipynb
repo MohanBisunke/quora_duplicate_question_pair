{
 "cells": [
  {
   "cell_type": "code",
   "execution_count": 1,
   "id": "efb8789b",
   "metadata": {},
   "outputs": [],
   "source": [
    "#name entity recognition --->> Basic Deep learning.\n",
    "#topic modeling -->> NDA"
   ]
  },
  {
   "cell_type": "code",
   "execution_count": 2,
   "id": "30f3f97b",
   "metadata": {},
   "outputs": [],
   "source": [
    "import pandas as pd\n",
    "import numpy as np"
   ]
  },
  {
   "cell_type": "code",
   "execution_count": 3,
   "id": "47a4bb58",
   "metadata": {},
   "outputs": [
    {
     "name": "stderr",
     "output_type": "stream",
     "text": [
      "C:\\Users\\bisun\\anaconda3\\lib\\site-packages\\IPython\\core\\interactiveshell.py:3444: DtypeWarning: Columns (7,8,9,10,11) have mixed types.Specify dtype option on import or set low_memory=False.\n",
      "  exec(code_obj, self.user_global_ns, self.user_ns)\n"
     ]
    }
   ],
   "source": [
    "df = pd.read_csv('quora_messed_dataset.csv')"
   ]
  },
  {
   "cell_type": "code",
   "execution_count": 4,
   "id": "892f2490",
   "metadata": {},
   "outputs": [
    {
     "data": {
      "text/plain": [
       "(404351, 13)"
      ]
     },
     "execution_count": 4,
     "metadata": {},
     "output_type": "execute_result"
    }
   ],
   "source": [
    "df.shape"
   ]
  },
  {
   "cell_type": "code",
   "execution_count": 5,
   "id": "a8dd2398",
   "metadata": {},
   "outputs": [],
   "source": [
    "df = df[['id','qid1','qid2','question1','question2','is_duplicate']]"
   ]
  },
  {
   "cell_type": "code",
   "execution_count": 6,
   "id": "4c8226b7",
   "metadata": {},
   "outputs": [
    {
     "name": "stdout",
     "output_type": "stream",
     "text": [
      "<class 'pandas.core.frame.DataFrame'>\n",
      "RangeIndex: 404351 entries, 0 to 404350\n",
      "Data columns (total 6 columns):\n",
      " #   Column        Non-Null Count   Dtype \n",
      "---  ------        --------------   ----- \n",
      " 0   id            404351 non-null  int64 \n",
      " 1   qid1          404351 non-null  int64 \n",
      " 2   qid2          404351 non-null  int64 \n",
      " 3   question1     404350 non-null  object\n",
      " 4   question2     404349 non-null  object\n",
      " 5   is_duplicate  404351 non-null  object\n",
      "dtypes: int64(3), object(3)\n",
      "memory usage: 18.5+ MB\n"
     ]
    }
   ],
   "source": [
    "df.info()"
   ]
  },
  {
   "cell_type": "code",
   "execution_count": 7,
   "id": "f592f526",
   "metadata": {},
   "outputs": [
    {
     "data": {
      "text/html": [
       "<div>\n",
       "<style scoped>\n",
       "    .dataframe tbody tr th:only-of-type {\n",
       "        vertical-align: middle;\n",
       "    }\n",
       "\n",
       "    .dataframe tbody tr th {\n",
       "        vertical-align: top;\n",
       "    }\n",
       "\n",
       "    .dataframe thead th {\n",
       "        text-align: right;\n",
       "    }\n",
       "</style>\n",
       "<table border=\"1\" class=\"dataframe\">\n",
       "  <thead>\n",
       "    <tr style=\"text-align: right;\">\n",
       "      <th></th>\n",
       "      <th>id</th>\n",
       "      <th>qid1</th>\n",
       "      <th>qid2</th>\n",
       "      <th>question1</th>\n",
       "      <th>question2</th>\n",
       "      <th>is_duplicate</th>\n",
       "    </tr>\n",
       "  </thead>\n",
       "  <tbody>\n",
       "    <tr>\n",
       "      <th>272223</th>\n",
       "      <td>272223</td>\n",
       "      <td>535357</td>\n",
       "      <td>535358</td>\n",
       "      <td>What must be the academic career for good plac...</td>\n",
       "      <td>What are you guys doing after graduating Btech...</td>\n",
       "      <td>1</td>\n",
       "    </tr>\n",
       "    <tr>\n",
       "      <th>285872</th>\n",
       "      <td>285872</td>\n",
       "      <td>561820</td>\n",
       "      <td>561821</td>\n",
       "      <td>How can I lose 15 kilos in 5 months?</td>\n",
       "      <td>What's the best way to lose 15 kilos?</td>\n",
       "      <td>1</td>\n",
       "    </tr>\n",
       "    <tr>\n",
       "      <th>252276</th>\n",
       "      <td>252276</td>\n",
       "      <td>496652</td>\n",
       "      <td>496653</td>\n",
       "      <td>What can I do to improve my English speaking?</td>\n",
       "      <td>What is the best way to improve my spoken Engl...</td>\n",
       "      <td>1</td>\n",
       "    </tr>\n",
       "    <tr>\n",
       "      <th>229904</th>\n",
       "      <td>229904</td>\n",
       "      <td>453052</td>\n",
       "      <td>453053</td>\n",
       "      <td>How dangerous is the Tenderloin, really?</td>\n",
       "      <td>Why is the Tenderloin district of San Francisc...</td>\n",
       "      <td>0</td>\n",
       "    </tr>\n",
       "    <tr>\n",
       "      <th>303801</th>\n",
       "      <td>303801</td>\n",
       "      <td>596559</td>\n",
       "      <td>596560</td>\n",
       "      <td>Thomas Edison said: \"Tomorrow is my exam but I...</td>\n",
       "      <td>Why do we fear exams so badly while we know th...</td>\n",
       "      <td>0</td>\n",
       "    </tr>\n",
       "    <tr>\n",
       "      <th>274926</th>\n",
       "      <td>274926</td>\n",
       "      <td>540596</td>\n",
       "      <td>540597</td>\n",
       "      <td>What is buffer stock?</td>\n",
       "      <td>What is a buffer stock?</td>\n",
       "      <td>1</td>\n",
       "    </tr>\n",
       "    <tr>\n",
       "      <th>197307</th>\n",
       "      <td>197307</td>\n",
       "      <td>389411</td>\n",
       "      <td>389412</td>\n",
       "      <td>How can you open a .z01 file?</td>\n",
       "      <td>How do I open a .opf file?</td>\n",
       "      <td>0</td>\n",
       "    </tr>\n",
       "    <tr>\n",
       "      <th>38386</th>\n",
       "      <td>38386</td>\n",
       "      <td>76475</td>\n",
       "      <td>76476</td>\n",
       "      <td>Why did the Battle of Vimy Ridge occur? Why is...</td>\n",
       "      <td>Why was Vimy Ridge important to Canada?</td>\n",
       "      <td>1</td>\n",
       "    </tr>\n",
       "    <tr>\n",
       "      <th>38512</th>\n",
       "      <td>38512</td>\n",
       "      <td>76726</td>\n",
       "      <td>76727</td>\n",
       "      <td>How do I learn psychology by my own?</td>\n",
       "      <td>How can I learn psychology on my own?</td>\n",
       "      <td>1</td>\n",
       "    </tr>\n",
       "    <tr>\n",
       "      <th>305029</th>\n",
       "      <td>305029</td>\n",
       "      <td>598936</td>\n",
       "      <td>598937</td>\n",
       "      <td>What type of signal flows through an Ethernet ...</td>\n",
       "      <td>How does data transfer through ethernet cables?</td>\n",
       "      <td>0</td>\n",
       "    </tr>\n",
       "  </tbody>\n",
       "</table>\n",
       "</div>"
      ],
      "text/plain": [
       "            id    qid1    qid2  \\\n",
       "272223  272223  535357  535358   \n",
       "285872  285872  561820  561821   \n",
       "252276  252276  496652  496653   \n",
       "229904  229904  453052  453053   \n",
       "303801  303801  596559  596560   \n",
       "274926  274926  540596  540597   \n",
       "197307  197307  389411  389412   \n",
       "38386    38386   76475   76476   \n",
       "38512    38512   76726   76727   \n",
       "305029  305029  598936  598937   \n",
       "\n",
       "                                                question1  \\\n",
       "272223  What must be the academic career for good plac...   \n",
       "285872               How can I lose 15 kilos in 5 months?   \n",
       "252276      What can I do to improve my English speaking?   \n",
       "229904           How dangerous is the Tenderloin, really?   \n",
       "303801  Thomas Edison said: \"Tomorrow is my exam but I...   \n",
       "274926                              What is buffer stock?   \n",
       "197307                      How can you open a .z01 file?   \n",
       "38386   Why did the Battle of Vimy Ridge occur? Why is...   \n",
       "38512                How do I learn psychology by my own?   \n",
       "305029  What type of signal flows through an Ethernet ...   \n",
       "\n",
       "                                                question2 is_duplicate  \n",
       "272223  What are you guys doing after graduating Btech...            1  \n",
       "285872              What's the best way to lose 15 kilos?            1  \n",
       "252276  What is the best way to improve my spoken Engl...            1  \n",
       "229904  Why is the Tenderloin district of San Francisc...            0  \n",
       "303801  Why do we fear exams so badly while we know th...            0  \n",
       "274926                            What is a buffer stock?            1  \n",
       "197307                         How do I open a .opf file?            0  \n",
       "38386             Why was Vimy Ridge important to Canada?            1  \n",
       "38512               How can I learn psychology on my own?            1  \n",
       "305029    How does data transfer through ethernet cables?            0  "
      ]
     },
     "execution_count": 7,
     "metadata": {},
     "output_type": "execute_result"
    }
   ],
   "source": [
    "df.sample(10)"
   ]
  },
  {
   "cell_type": "code",
   "execution_count": 8,
   "id": "61d5deab",
   "metadata": {},
   "outputs": [
    {
     "data": {
      "text/plain": [
       "id              0\n",
       "qid1            0\n",
       "qid2            0\n",
       "question1       1\n",
       "question2       2\n",
       "is_duplicate    0\n",
       "dtype: int64"
      ]
     },
     "execution_count": 8,
     "metadata": {},
     "output_type": "execute_result"
    }
   ],
   "source": [
    "df.isnull().sum()"
   ]
  },
  {
   "cell_type": "code",
   "execution_count": 9,
   "id": "36e7bedc",
   "metadata": {},
   "outputs": [
    {
     "data": {
      "text/plain": [
       "0"
      ]
     },
     "execution_count": 9,
     "metadata": {},
     "output_type": "execute_result"
    }
   ],
   "source": [
    "df.duplicated().sum()"
   ]
  },
  {
   "cell_type": "code",
   "execution_count": 10,
   "id": "d344c293",
   "metadata": {},
   "outputs": [
    {
     "data": {
      "text/plain": [
       "0                                                                                           254748\n",
       "1                                                                                           149267\n",
       " he's straight. What should I do?                                                               10\n",
       " ?                                                                                               5\n",
       "What are some TL                                                                                 5\n",
       "                                                                                             ...  \n",
       " I would appreciate if the answer explains physical significance?                                1\n",
       "Is it better to go for a job just after your graduation?                                         1\n",
       " review of the literature                                                                        1\n",
       "What were Sir Francis Bacon's most important contributions to the scientific revolution?         1\n",
       " is it worth the extra cost?                                                                     1\n",
       "Name: is_duplicate, Length: 306, dtype: int64"
      ]
     },
     "execution_count": 10,
     "metadata": {},
     "output_type": "execute_result"
    }
   ],
   "source": [
    "df['is_duplicate'].value_counts()"
   ]
  },
  {
   "cell_type": "code",
   "execution_count": 11,
   "id": "3a42f133",
   "metadata": {},
   "outputs": [
    {
     "data": {
      "text/plain": [
       "404015"
      ]
     },
     "execution_count": 11,
     "metadata": {},
     "output_type": "execute_result"
    }
   ],
   "source": [
    "254748+149267"
   ]
  },
  {
   "cell_type": "code",
   "execution_count": 12,
   "id": "5002c922",
   "metadata": {},
   "outputs": [
    {
     "data": {
      "text/plain": [
       "str"
      ]
     },
     "execution_count": 12,
     "metadata": {},
     "output_type": "execute_result"
    }
   ],
   "source": [
    "type(df['is_duplicate'][0])"
   ]
  },
  {
   "cell_type": "code",
   "execution_count": 13,
   "id": "1a781e14",
   "metadata": {},
   "outputs": [],
   "source": [
    "#df1 = df[(df['is_duplicate'] == '0') | (df['is_duplicate'] == '1')] #string types.\n",
    "\n",
    "#df1 = df[(df['is_duplicate'] == 0) | (df['is_duplicate'] == 1)] #int types"
   ]
  },
  {
   "cell_type": "code",
   "execution_count": 14,
   "id": "e28713f6",
   "metadata": {},
   "outputs": [
    {
     "data": {
      "text/plain": [
       "(404351, 6)"
      ]
     },
     "execution_count": 14,
     "metadata": {},
     "output_type": "execute_result"
    }
   ],
   "source": [
    "df.shape"
   ]
  },
  {
   "cell_type": "code",
   "execution_count": 15,
   "id": "3d9d9033",
   "metadata": {},
   "outputs": [],
   "source": [
    "df = df[df['is_duplicate'].isin(['0', '1'])]"
   ]
  },
  {
   "cell_type": "code",
   "execution_count": 16,
   "id": "a7befad9",
   "metadata": {},
   "outputs": [
    {
     "data": {
      "text/html": [
       "<div>\n",
       "<style scoped>\n",
       "    .dataframe tbody tr th:only-of-type {\n",
       "        vertical-align: middle;\n",
       "    }\n",
       "\n",
       "    .dataframe tbody tr th {\n",
       "        vertical-align: top;\n",
       "    }\n",
       "\n",
       "    .dataframe thead th {\n",
       "        text-align: right;\n",
       "    }\n",
       "</style>\n",
       "<table border=\"1\" class=\"dataframe\">\n",
       "  <thead>\n",
       "    <tr style=\"text-align: right;\">\n",
       "      <th></th>\n",
       "      <th>id</th>\n",
       "      <th>qid1</th>\n",
       "      <th>qid2</th>\n",
       "      <th>question1</th>\n",
       "      <th>question2</th>\n",
       "      <th>is_duplicate</th>\n",
       "    </tr>\n",
       "  </thead>\n",
       "  <tbody>\n",
       "    <tr>\n",
       "      <th>0</th>\n",
       "      <td>0</td>\n",
       "      <td>1</td>\n",
       "      <td>2</td>\n",
       "      <td>What is the step by step guide to invest in sh...</td>\n",
       "      <td>What is the step by step guide to invest in sh...</td>\n",
       "      <td>0</td>\n",
       "    </tr>\n",
       "    <tr>\n",
       "      <th>1</th>\n",
       "      <td>1</td>\n",
       "      <td>3</td>\n",
       "      <td>4</td>\n",
       "      <td>What is the story of Kohinoor (Koh-i-Noor) Dia...</td>\n",
       "      <td>What would happen if the Indian government sto...</td>\n",
       "      <td>0</td>\n",
       "    </tr>\n",
       "    <tr>\n",
       "      <th>2</th>\n",
       "      <td>2</td>\n",
       "      <td>5</td>\n",
       "      <td>6</td>\n",
       "      <td>How can I increase the speed of my internet co...</td>\n",
       "      <td>How can Internet speed be increased by hacking...</td>\n",
       "      <td>0</td>\n",
       "    </tr>\n",
       "    <tr>\n",
       "      <th>3</th>\n",
       "      <td>3</td>\n",
       "      <td>7</td>\n",
       "      <td>8</td>\n",
       "      <td>Why am I mentally very lonely? How can I solve...</td>\n",
       "      <td>Find the remainder when [math]23^{24}[/math] i...</td>\n",
       "      <td>0</td>\n",
       "    </tr>\n",
       "    <tr>\n",
       "      <th>4</th>\n",
       "      <td>4</td>\n",
       "      <td>9</td>\n",
       "      <td>10</td>\n",
       "      <td>Which one dissolve in water quikly sugar, salt...</td>\n",
       "      <td>Which fish would survive in salt water?</td>\n",
       "      <td>0</td>\n",
       "    </tr>\n",
       "    <tr>\n",
       "      <th>5</th>\n",
       "      <td>5</td>\n",
       "      <td>11</td>\n",
       "      <td>12</td>\n",
       "      <td>Astrology: I am a Capricorn Sun Cap moon and c...</td>\n",
       "      <td>I'm a triple Capricorn (Sun, Moon and ascendan...</td>\n",
       "      <td>1</td>\n",
       "    </tr>\n",
       "    <tr>\n",
       "      <th>6</th>\n",
       "      <td>6</td>\n",
       "      <td>13</td>\n",
       "      <td>14</td>\n",
       "      <td>Should I buy tiago?</td>\n",
       "      <td>What keeps childern active and far from phone ...</td>\n",
       "      <td>0</td>\n",
       "    </tr>\n",
       "    <tr>\n",
       "      <th>7</th>\n",
       "      <td>7</td>\n",
       "      <td>15</td>\n",
       "      <td>16</td>\n",
       "      <td>How can I be a good geologist?</td>\n",
       "      <td>What should I do to be a great geologist?</td>\n",
       "      <td>1</td>\n",
       "    </tr>\n",
       "    <tr>\n",
       "      <th>8</th>\n",
       "      <td>8</td>\n",
       "      <td>17</td>\n",
       "      <td>18</td>\n",
       "      <td>When do you use シ instead of し?</td>\n",
       "      <td>When do you use \"&amp;\" instead of \"and\"?</td>\n",
       "      <td>0</td>\n",
       "    </tr>\n",
       "    <tr>\n",
       "      <th>9</th>\n",
       "      <td>9</td>\n",
       "      <td>19</td>\n",
       "      <td>20</td>\n",
       "      <td>Motorola (company): Can I hack my Charter Moto...</td>\n",
       "      <td>How do I hack Motorola DCX3400 for free internet?</td>\n",
       "      <td>0</td>\n",
       "    </tr>\n",
       "  </tbody>\n",
       "</table>\n",
       "</div>"
      ],
      "text/plain": [
       "   id  qid1  qid2                                          question1  \\\n",
       "0   0     1     2  What is the step by step guide to invest in sh...   \n",
       "1   1     3     4  What is the story of Kohinoor (Koh-i-Noor) Dia...   \n",
       "2   2     5     6  How can I increase the speed of my internet co...   \n",
       "3   3     7     8  Why am I mentally very lonely? How can I solve...   \n",
       "4   4     9    10  Which one dissolve in water quikly sugar, salt...   \n",
       "5   5    11    12  Astrology: I am a Capricorn Sun Cap moon and c...   \n",
       "6   6    13    14                                Should I buy tiago?   \n",
       "7   7    15    16                     How can I be a good geologist?   \n",
       "8   8    17    18                    When do you use シ instead of し?   \n",
       "9   9    19    20  Motorola (company): Can I hack my Charter Moto...   \n",
       "\n",
       "                                           question2 is_duplicate  \n",
       "0  What is the step by step guide to invest in sh...            0  \n",
       "1  What would happen if the Indian government sto...            0  \n",
       "2  How can Internet speed be increased by hacking...            0  \n",
       "3  Find the remainder when [math]23^{24}[/math] i...            0  \n",
       "4            Which fish would survive in salt water?            0  \n",
       "5  I'm a triple Capricorn (Sun, Moon and ascendan...            1  \n",
       "6  What keeps childern active and far from phone ...            0  \n",
       "7          What should I do to be a great geologist?            1  \n",
       "8              When do you use \"&\" instead of \"and\"?            0  \n",
       "9  How do I hack Motorola DCX3400 for free internet?            0  "
      ]
     },
     "execution_count": 16,
     "metadata": {},
     "output_type": "execute_result"
    }
   ],
   "source": [
    "df.head(10)"
   ]
  },
  {
   "cell_type": "code",
   "execution_count": 17,
   "id": "e240d64c",
   "metadata": {},
   "outputs": [
    {
     "data": {
      "text/html": [
       "<div>\n",
       "<style scoped>\n",
       "    .dataframe tbody tr th:only-of-type {\n",
       "        vertical-align: middle;\n",
       "    }\n",
       "\n",
       "    .dataframe tbody tr th {\n",
       "        vertical-align: top;\n",
       "    }\n",
       "\n",
       "    .dataframe thead th {\n",
       "        text-align: right;\n",
       "    }\n",
       "</style>\n",
       "<table border=\"1\" class=\"dataframe\">\n",
       "  <thead>\n",
       "    <tr style=\"text-align: right;\">\n",
       "      <th></th>\n",
       "      <th>id</th>\n",
       "      <th>qid1</th>\n",
       "      <th>qid2</th>\n",
       "      <th>question1</th>\n",
       "      <th>question2</th>\n",
       "      <th>is_duplicate</th>\n",
       "    </tr>\n",
       "  </thead>\n",
       "  <tbody>\n",
       "    <tr>\n",
       "      <th>47644</th>\n",
       "      <td>47644</td>\n",
       "      <td>94859</td>\n",
       "      <td>94860</td>\n",
       "      <td>What are some real-life applications of integr...</td>\n",
       "      <td>What are the applications of mathematical diff...</td>\n",
       "      <td>0</td>\n",
       "    </tr>\n",
       "    <tr>\n",
       "      <th>391371</th>\n",
       "      <td>391371</td>\n",
       "      <td>764971</td>\n",
       "      <td>764972</td>\n",
       "      <td>Which are the best mutual funds to invest with...</td>\n",
       "      <td>Which is the best mutual funds to invest in In...</td>\n",
       "      <td>0</td>\n",
       "    </tr>\n",
       "    <tr>\n",
       "      <th>109071</th>\n",
       "      <td>109071</td>\n",
       "      <td>216295</td>\n",
       "      <td>216296</td>\n",
       "      <td>Has anyone had problems getting a refund from ...</td>\n",
       "      <td>Food Allergies: Has anyone reading this person...</td>\n",
       "      <td>0</td>\n",
       "    </tr>\n",
       "    <tr>\n",
       "      <th>397722</th>\n",
       "      <td>397722</td>\n",
       "      <td>777123</td>\n",
       "      <td>777124</td>\n",
       "      <td>When Republicans say things that are clearly n...</td>\n",
       "      <td>How can one focus on his/her present instead o...</td>\n",
       "      <td>0</td>\n",
       "    </tr>\n",
       "    <tr>\n",
       "      <th>74574</th>\n",
       "      <td>74574</td>\n",
       "      <td>148192</td>\n",
       "      <td>148193</td>\n",
       "      <td>Where and how can I learn the best methods (ti...</td>\n",
       "      <td>Is there an equivalent of C++'s STL help file ...</td>\n",
       "      <td>0</td>\n",
       "    </tr>\n",
       "    <tr>\n",
       "      <th>38285</th>\n",
       "      <td>38285</td>\n",
       "      <td>76275</td>\n",
       "      <td>76276</td>\n",
       "      <td>How do I add question details digitally on Quora?</td>\n",
       "      <td>Is there a way to edit your question details b...</td>\n",
       "      <td>1</td>\n",
       "    </tr>\n",
       "    <tr>\n",
       "      <th>346606</th>\n",
       "      <td>346606</td>\n",
       "      <td>679190</td>\n",
       "      <td>300119</td>\n",
       "      <td>What are the best SEO technique?</td>\n",
       "      <td>What are the best SEO techniques?</td>\n",
       "      <td>1</td>\n",
       "    </tr>\n",
       "    <tr>\n",
       "      <th>88106</th>\n",
       "      <td>88106</td>\n",
       "      <td>174953</td>\n",
       "      <td>174954</td>\n",
       "      <td>How is that Amazon scores way ahead of flipkar...</td>\n",
       "      <td>Does the Amazon India Re.1 app deal work?</td>\n",
       "      <td>0</td>\n",
       "    </tr>\n",
       "    <tr>\n",
       "      <th>337941</th>\n",
       "      <td>337941</td>\n",
       "      <td>662505</td>\n",
       "      <td>662506</td>\n",
       "      <td>How is a German Sherperd/Great Pyrenees mix co...</td>\n",
       "      <td>How is a German Sherperd/Great Pyrenees mix co...</td>\n",
       "      <td>0</td>\n",
       "    </tr>\n",
       "    <tr>\n",
       "      <th>26654</th>\n",
       "      <td>26654</td>\n",
       "      <td>53151</td>\n",
       "      <td>53152</td>\n",
       "      <td>Could you provide me with the summary of the S...</td>\n",
       "      <td>What will government do with 1000 rs &amp; 500 rs ...</td>\n",
       "      <td>0</td>\n",
       "    </tr>\n",
       "  </tbody>\n",
       "</table>\n",
       "</div>"
      ],
      "text/plain": [
       "            id    qid1    qid2  \\\n",
       "47644    47644   94859   94860   \n",
       "391371  391371  764971  764972   \n",
       "109071  109071  216295  216296   \n",
       "397722  397722  777123  777124   \n",
       "74574    74574  148192  148193   \n",
       "38285    38285   76275   76276   \n",
       "346606  346606  679190  300119   \n",
       "88106    88106  174953  174954   \n",
       "337941  337941  662505  662506   \n",
       "26654    26654   53151   53152   \n",
       "\n",
       "                                                question1  \\\n",
       "47644   What are some real-life applications of integr...   \n",
       "391371  Which are the best mutual funds to invest with...   \n",
       "109071  Has anyone had problems getting a refund from ...   \n",
       "397722  When Republicans say things that are clearly n...   \n",
       "74574   Where and how can I learn the best methods (ti...   \n",
       "38285   How do I add question details digitally on Quora?   \n",
       "346606                   What are the best SEO technique?   \n",
       "88106   How is that Amazon scores way ahead of flipkar...   \n",
       "337941  How is a German Sherperd/Great Pyrenees mix co...   \n",
       "26654   Could you provide me with the summary of the S...   \n",
       "\n",
       "                                                question2 is_duplicate  \n",
       "47644   What are the applications of mathematical diff...            0  \n",
       "391371  Which is the best mutual funds to invest in In...            0  \n",
       "109071  Food Allergies: Has anyone reading this person...            0  \n",
       "397722  How can one focus on his/her present instead o...            0  \n",
       "74574   Is there an equivalent of C++'s STL help file ...            0  \n",
       "38285   Is there a way to edit your question details b...            1  \n",
       "346606                  What are the best SEO techniques?            1  \n",
       "88106           Does the Amazon India Re.1 app deal work?            0  \n",
       "337941  How is a German Sherperd/Great Pyrenees mix co...            0  \n",
       "26654   What will government do with 1000 rs & 500 rs ...            0  "
      ]
     },
     "execution_count": 17,
     "metadata": {},
     "output_type": "execute_result"
    }
   ],
   "source": [
    "df.sample(10)"
   ]
  },
  {
   "cell_type": "code",
   "execution_count": 18,
   "id": "9190484c",
   "metadata": {},
   "outputs": [
    {
     "name": "stdout",
     "output_type": "stream",
     "text": [
      "<class 'pandas.core.frame.DataFrame'>\n",
      "Int64Index: 404015 entries, 0 to 404350\n",
      "Data columns (total 6 columns):\n",
      " #   Column        Non-Null Count   Dtype \n",
      "---  ------        --------------   ----- \n",
      " 0   id            404015 non-null  int64 \n",
      " 1   qid1          404015 non-null  int64 \n",
      " 2   qid2          404015 non-null  int64 \n",
      " 3   question1     404014 non-null  object\n",
      " 4   question2     404013 non-null  object\n",
      " 5   is_duplicate  404015 non-null  object\n",
      "dtypes: int64(3), object(3)\n",
      "memory usage: 21.6+ MB\n"
     ]
    }
   ],
   "source": [
    "df.info()"
   ]
  },
  {
   "cell_type": "code",
   "execution_count": 19,
   "id": "1996e284",
   "metadata": {},
   "outputs": [
    {
     "name": "stdout",
     "output_type": "stream",
     "text": [
      "0    254748\n",
      "1    149267\n",
      "Name: is_duplicate, dtype: int64\n",
      "0    63.054095\n",
      "1    36.945905\n",
      "Name: is_duplicate, dtype: float64\n"
     ]
    },
    {
     "data": {
      "text/plain": [
       "<AxesSubplot:>"
      ]
     },
     "execution_count": 19,
     "metadata": {},
     "output_type": "execute_result"
    },
    {
     "data": {
      "image/png": "[encoded data removed]",
      "text/plain": [
       "<Figure size 432x288 with 1 Axes>"
      ]
     },
     "metadata": {
      "needs_background": "light"
     },
     "output_type": "display_data"
    }
   ],
   "source": [
    "print(df['is_duplicate'].value_counts())\n",
    "print((df['is_duplicate'].value_counts()/df['is_duplicate'].count())*100)\n",
    "df['is_duplicate'].value_counts().plot(kind='bar')"
   ]
  },
  {
   "cell_type": "code",
   "execution_count": 20,
   "id": "88c41daf",
   "metadata": {},
   "outputs": [],
   "source": [
    "df.to_csv('quora_dataset.csv',index=False)"
   ]
  },
  {
   "cell_type": "code",
   "execution_count": 21,
   "id": "dfd8cad2",
   "metadata": {},
   "outputs": [
    {
     "name": "stdout",
     "output_type": "stream",
     "text": [
      "Number of unique questions 789154\n",
      "Number of questions getting repeated 13675\n"
     ]
    }
   ],
   "source": [
    "#repeated_questions\n",
    "\n",
    "qid = pd.Series(df['qid1'].tolist() + df['qid2'].tolist())\n",
    "print('Number of unique questions',np.unique(qid).shape[0])\n",
    "x = qid.value_counts()>1\n",
    "print('Number of questions getting repeated',x[x].shape[0])"
   ]
  },
  {
   "cell_type": "code",
   "execution_count": 22,
   "id": "ead0cefc",
   "metadata": {},
   "outputs": [
    {
     "data": {
      "text/plain": [
       "789154"
      ]
     },
     "execution_count": 22,
     "metadata": {},
     "output_type": "execute_result"
    }
   ],
   "source": [
    "np.unique(qid).shape[0]"
   ]
  },
  {
   "cell_type": "code",
   "execution_count": 23,
   "id": "8708e9ff",
   "metadata": {},
   "outputs": [
    {
     "data": {
      "text/plain": [
       "pandas.core.series.Series"
      ]
     },
     "execution_count": 23,
     "metadata": {},
     "output_type": "execute_result"
    }
   ],
   "source": [
    "type(qid)"
   ]
  },
  {
   "cell_type": "code",
   "execution_count": 24,
   "id": "5251e7c4",
   "metadata": {},
   "outputs": [
    {
     "data": {
      "text/plain": [
       "65333      True\n",
       "7863       True\n",
       "147324     True\n",
       "2628       True\n",
       "26304      True\n",
       "          ...  \n",
       "530721    False\n",
       "530723    False\n",
       "530725    False\n",
       "530727    False\n",
       "789801    False\n",
       "Length: 789154, dtype: bool"
      ]
     },
     "execution_count": 24,
     "metadata": {},
     "output_type": "execute_result"
    }
   ],
   "source": [
    "x"
   ]
  },
  {
   "cell_type": "code",
   "execution_count": 25,
   "id": "c7c5d49a",
   "metadata": {},
   "outputs": [
    {
     "data": {
      "image/png": "[encoded data removed]",
      "text/plain": [
       "<Figure size 432x288 with 1 Axes>"
      ]
     },
     "metadata": {
      "needs_background": "light"
     },
     "output_type": "display_data"
    }
   ],
   "source": [
    "import matplotlib.pyplot as plt\n",
    "plt.hist(qid.value_counts().values,bins=160)\n",
    "plt.yscale('log')\n",
    "plt.show()"
   ]
  },
  {
   "cell_type": "code",
   "execution_count": null,
   "id": "4b02145b",
   "metadata": {},
   "outputs": [],
   "source": []
  }
 ],
 "metadata": {
  "kernelspec": {
   "display_name": "Python 3 (ipykernel)",
   "language": "python",
   "name": "python3"
  },
  "language_info": {
   "codemirror_mode": {
    "name": "ipython",
    "version": 3
   },
   "file_extension": ".py",
   "mimetype": "text/x-python",
   "name": "python",
   "nbconvert_exporter": "python",
   "pygments_lexer": "ipython3",
   "version": "3.9.7"
  }
 },
 "nbformat": 4,
 "nbformat_minor": 5
}
